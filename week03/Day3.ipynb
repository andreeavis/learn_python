{
 "cells": [
  {
   "cell_type": "code",
   "execution_count": 16,
   "metadata": {},
   "outputs": [
    {
     "name": "stdout",
     "output_type": "stream",
     "text": [
      "Pretty printing has been turned ON\n",
      "*** Introductory Examples for the NLTK Book ***\n",
      "Loading text1, ..., text9 and sent1, ..., sent9\n",
      "Type the name of the text or sentence to view it.\n",
      "Type: 'texts()' or 'sents()' to list the materials.\n",
      "text1: Moby Dick by Herman Melville 1851\n",
      "text2: Sense and Sensibility by Jane Austen 1811\n",
      "text3: The Book of Genesis\n",
      "text4: Inaugural Address Corpus\n",
      "text5: Chat Corpus\n",
      "text6: Monty Python and the Holy Grail\n",
      "text7: Wall Street Journal\n",
      "text8: Personals Corpus\n",
      "text9: The Man Who Was Thursday by G . K . Chesterton 1908\n"
     ]
    }
   ],
   "source": [
    "%matplotlib inline\n",
    "%pprint\n",
    "import nltk, matplotlib, re\n",
    "from nltk.corpus import brown\n",
    "from nltk.book import *"
   ]
  },
  {
   "cell_type": "code",
   "execution_count": 11,
   "metadata": {},
   "outputs": [
    {
     "data": {
      "text/plain": [
       "104040"
      ]
     },
     "execution_count": 11,
     "metadata": {},
     "output_type": "execute_result"
    }
   ],
   "source": [
    "genre_word = [(genre, word)\n",
    "              for genre in ['humor', 'hobbies']\n",
    "              for word in brown.words(categories=genre)]\n",
    "len(genre_word)"
   ]
  },
  {
   "cell_type": "code",
   "execution_count": 14,
   "metadata": {},
   "outputs": [
    {
     "data": {
      "text/plain": [
       "[('humor', 'It'),\n",
       " ('humor', 'was'),\n",
       " ('humor', 'among'),\n",
       " ('humor', 'these'),\n",
       " ('humor', 'that'),\n",
       " ('humor', 'Hinkle'),\n",
       " ('humor', 'identified'),\n",
       " ('humor', 'a'),\n",
       " ('humor', 'photograph'),\n",
       " ('humor', 'of')]"
      ]
     },
     "execution_count": 14,
     "metadata": {},
     "output_type": "execute_result"
    }
   ],
   "source": [
    "genre_word[:10]"
   ]
  },
  {
   "cell_type": "code",
   "execution_count": 18,
   "metadata": {},
   "outputs": [
    {
     "data": {
      "text/plain": [
       "[(',', 18713),\n",
       " ('the', 13721),\n",
       " ('.', 6862),\n",
       " ('of', 6536),\n",
       " ('and', 6024),\n",
       " ('a', 4569),\n",
       " ('to', 4542),\n",
       " (';', 4072),\n",
       " ('in', 3916),\n",
       " ('that', 2982),\n",
       " (\"'\", 2684),\n",
       " ('-', 2552),\n",
       " ('his', 2459),\n",
       " ('it', 2209),\n",
       " ('I', 2124),\n",
       " ('s', 1739),\n",
       " ('is', 1695),\n",
       " ('he', 1661),\n",
       " ('with', 1659),\n",
       " ('was', 1632),\n",
       " ('as', 1620),\n",
       " ('\"', 1478),\n",
       " ('all', 1462),\n",
       " ('for', 1414),\n",
       " ('this', 1280),\n",
       " ('!', 1269),\n",
       " ('at', 1231),\n",
       " ('by', 1137),\n",
       " ('but', 1113),\n",
       " ('not', 1103),\n",
       " ('--', 1070),\n",
       " ('him', 1058),\n",
       " ('from', 1052),\n",
       " ('be', 1030),\n",
       " ('on', 1005),\n",
       " ('so', 918),\n",
       " ('whale', 906),\n",
       " ('one', 889),\n",
       " ('you', 841),\n",
       " ('had', 767),\n",
       " ('have', 760),\n",
       " ('there', 715),\n",
       " ('But', 705),\n",
       " ('or', 697),\n",
       " ('were', 680),\n",
       " ('now', 646),\n",
       " ('which', 640),\n",
       " ('?', 637),\n",
       " ('me', 627),\n",
       " ('like', 624)]"
      ]
     },
     "execution_count": 18,
     "metadata": {},
     "output_type": "execute_result"
    }
   ],
   "source": [
    "fdist1 = nltk.FreqDist(text1)\n",
    "fdist1.most_common(50)"
   ]
  },
  {
   "cell_type": "code",
   "execution_count": 19,
   "metadata": {},
   "outputs": [
    {
     "data": {
      "text/plain": [
       "['The', 'Fulton', 'County', 'Grand', 'Jury', 'said', ...]"
      ]
     },
     "execution_count": 19,
     "metadata": {},
     "output_type": "execute_result"
    }
   ],
   "source": [
    "# using the Brown corpus to run FreqDist we need a\n",
    "# format that is a 'list of words'\n",
    "news_text = brown.words(categories='news')\n",
    "news_text"
   ]
  },
  {
   "cell_type": "code",
   "execution_count": 20,
   "metadata": {},
   "outputs": [
    {
     "data": {
      "text/plain": [
       "[('the', 5580),\n",
       " (',', 5188),\n",
       " ('.', 4030),\n",
       " ('of', 2849),\n",
       " ('and', 2146),\n",
       " ('to', 2116),\n",
       " ('a', 1993),\n",
       " ('in', 1893),\n",
       " ('for', 943),\n",
       " ('The', 806),\n",
       " ('that', 802),\n",
       " ('``', 732),\n",
       " ('is', 732),\n",
       " ('was', 717),\n",
       " (\"''\", 702),\n",
       " ('on', 657),\n",
       " ('at', 598),\n",
       " ('with', 545),\n",
       " ('be', 526),\n",
       " ('by', 497),\n",
       " ('as', 481),\n",
       " ('he', 451),\n",
       " ('said', 402),\n",
       " ('his', 399),\n",
       " ('will', 389),\n",
       " ('it', 363),\n",
       " ('from', 344),\n",
       " ('are', 328),\n",
       " (';', 314),\n",
       " ('an', 300),\n",
       " ('has', 300),\n",
       " ('--', 300),\n",
       " ('had', 279),\n",
       " ('who', 268),\n",
       " ('have', 265),\n",
       " ('not', 254),\n",
       " ('Mrs.', 253),\n",
       " ('were', 252),\n",
       " ('this', 250),\n",
       " ('which', 244),\n",
       " ('would', 244),\n",
       " ('their', 219),\n",
       " ('been', 212),\n",
       " ('they', 205),\n",
       " ('He', 191),\n",
       " ('one', 184),\n",
       " ('I', 179),\n",
       " ('but', 174),\n",
       " ('its', 174),\n",
       " ('or', 173)]"
      ]
     },
     "execution_count": 20,
     "metadata": {},
     "output_type": "execute_result"
    }
   ],
   "source": [
    "fdist1 = nltk.FreqDist(news_text)\n",
    "fdist1.most_common(50)"
   ]
  },
  {
   "cell_type": "code",
   "execution_count": null,
   "metadata": {},
   "outputs": [],
   "source": []
  }
 ],
 "metadata": {
  "kernelspec": {
   "display_name": "Python 3",
   "language": "python",
   "name": "python3"
  },
  "language_info": {
   "codemirror_mode": {
    "name": "ipython",
    "version": 3
   },
   "file_extension": ".py",
   "mimetype": "text/x-python",
   "name": "python",
   "nbconvert_exporter": "python",
   "pygments_lexer": "ipython3",
   "version": "3.6.5"
  }
 },
 "nbformat": 4,
 "nbformat_minor": 2
}
