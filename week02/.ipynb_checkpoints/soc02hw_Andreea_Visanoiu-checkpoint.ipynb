{
 "cells": [
  {
   "cell_type": "markdown",
   "metadata": {},
   "source": [
    "## Day 1 \n",
    "#### Exercise 1\n",
    "* Calculate a table for each letter in the alphabet from a-z, and count how many times each letter appears in alice_in_wonderland.txt (fancy word for counting stuff is \"frequency distribution\" - because you are counting the frequency of something)\n",
    "a: 34,560\n",
    "b: 5,027\n",
    "...\n",
    "z: 893\n",
    "Store the results in a list of lists:\n",
    "result = [  \n",
    "            [\"a\", 34560], \n",
    "            [\"b\", 5027], \n",
    "            ... \n",
    "            [\"z\", 893]\n",
    "         ]"
   ]
  },
  {
   "cell_type": "code",
   "execution_count": null,
   "metadata": {},
   "outputs": [],
   "source": [
    "filename = 'alice_in_wonderland.txt'\n",
    "\n",
    "file = open(filename, 'r')\n",
    "text = file.read()\n",
    "\n",
    "def count_char(text):\t\n",
    "\ttext = text.lower()\n",
    "\tchar_list = []\n",
    "\tfor i in range(len(text)):\n",
    "\t\tif text[i].isalpha():\n",
    "\t\t\tcounter = text.count(text[i])\n",
    "\t\t\tif [text[i], counter] not in char_list:\n",
    "\t\t\t\tchar_list.append([text[i], counter])\n",
    "\tchar_set = sorted(char_list)\n",
    "\treturn char_set\n",
    "\n",
    "print(count_char(text))\n"
   ]
  },
  {
   "cell_type": "code",
   "execution_count": null,
   "metadata": {},
   "outputs": [],
   "source": []
  },
  {
   "cell_type": "code",
   "execution_count": null,
   "metadata": {},
   "outputs": [],
   "source": []
  }
 ],
 "metadata": {
  "kernelspec": {
   "display_name": "Python 3",
   "language": "python",
   "name": "python3"
  },
  "language_info": {
   "codemirror_mode": {
    "name": "ipython",
    "version": 3
   },
   "file_extension": ".py",
   "mimetype": "text/x-python",
   "name": "python",
   "nbconvert_exporter": "python",
   "pygments_lexer": "ipython3",
   "version": "3.6.5"
  }
 },
 "nbformat": 4,
 "nbformat_minor": 2
}
